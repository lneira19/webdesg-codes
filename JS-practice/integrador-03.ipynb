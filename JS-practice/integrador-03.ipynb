{
 "cells": [
  {
   "cell_type": "code",
   "execution_count": null,
   "metadata": {
    "polyglot_notebook": {
     "kernelName": "javascript"
    }
   },
   "outputs": [
    {
     "data": {
      "text/plain": [
       "Empleados registrados"
      ]
     },
     "metadata": {},
     "output_type": "display_data"
    },
    {
     "data": {
      "application/json": [
       {
        "asistencias": [
         true,
         true,
         true
        ],
        "id": 100,
        "nombre": "Spike"
       },
       {
        "asistencias": [
         false,
         true,
         false
        ],
        "id": 200,
        "nombre": "Jet"
       },
       {
        "asistencias": [
         false,
         false,
         false
        ],
        "id": 300,
        "nombre": "Faye"
       }
      ]
     },
     "metadata": {},
     "output_type": "display_data"
    },
    {
     "data": {
      "application/json": [
       {
        "asistencias": [
         true,
         true,
         true
        ],
        "id": 100,
        "nombre": "Spike"
       },
       {
        "asistencias": [
         false,
         true,
         false
        ],
        "id": 200,
        "nombre": "Jet"
       },
       {
        "asistencias": [
         false,
         false,
         false,
         true
        ],
        "id": 300,
        "nombre": "Faye"
       }
      ]
     },
     "metadata": {},
     "output_type": "display_data"
    },
    {
     "data": {
      "text/plain": [
       "0.3333333333333333"
      ]
     },
     "metadata": {},
     "output_type": "display_data"
    },
    {
     "data": {
      "text/plain": [
       "true"
      ]
     },
     "metadata": {},
     "output_type": "display_data"
    },
    {
     "data": {
      "application/json": {
       "asistencias": [
        true,
        true,
        true
       ],
       "id": 100,
       "nombre": "Spike"
      }
     },
     "metadata": {},
     "output_type": "display_data"
    },
    {
     "data": {
      "text/plain": [
       "El empleado no existe."
      ]
     },
     "metadata": {},
     "output_type": "display_data"
    },
    {
     "data": {
      "text/plain": [
       "Nombre: Spike\t - Porcentaje asistencia: 1"
      ]
     },
     "metadata": {},
     "output_type": "display_data"
    },
    {
     "data": {
      "text/plain": [
       "Nombre: Jet\t - Porcentaje asistencia: 0.3333333333333333"
      ]
     },
     "metadata": {},
     "output_type": "display_data"
    },
    {
     "data": {
      "text/plain": [
       "Nombre: Faye\t - Porcentaje asistencia: 0.25"
      ]
     },
     "metadata": {},
     "output_type": "display_data"
    },
    {
     "data": {
      "application/json": [
       {
        "asistencias": [
         true,
         true,
         true
        ],
        "id": 100,
        "nombre": "Spike"
       }
      ]
     },
     "metadata": {},
     "output_type": "display_data"
    }
   ],
   "source": [
    "/* VARIABLES O OBJETOS */\n",
    "\n",
    "let empleados = []\n",
    "\n",
    "function Empleado(nombre,id,asistencias)\n",
    "{\n",
    "    this.nombre = nombre,\n",
    "    this.id = id,\n",
    "    this.asistencias = asistencias\n",
    "}\n",
    "\n",
    "const nombre_empleados = [\"Spike\",\"Jet\",\"Faye\"]\n",
    "const id_empleados = [100,200,300]\n",
    "const asistencia_empleados = [[true,true,true],[false,true,false],[false,false,false]]\n",
    "\n",
    "for ( let i = 0 ; i<3 ; ++i )\n",
    "{\n",
    "    let empleado = new Empleado(nombre_empleados[i],id_empleados[i],asistencia_empleados[i])\n",
    "    empleados.push(empleado)\n",
    "}\n",
    "\n",
    "console.log(\"Empleados registrados\")\n",
    "console.log(empleados)\n",
    "\n",
    "/* FUNCIONES */\n",
    "function registrarAsistencia(id,asistencia)\n",
    "{\n",
    "    let indice = empleados.findIndex((elemento)=>elemento.id===id)\n",
    "\n",
    "    if ( indice != -1 )\n",
    "    {\n",
    "        empleados[indice].asistencias.push(asistencia)\n",
    "    }\n",
    "    else\n",
    "    {\n",
    "        console.log(\"El empleado no existe.\")\n",
    "    }\n",
    "}\n",
    "\n",
    "function calcularAsistencia(id)\n",
    "{\n",
    "    let indice = empleados.findIndex((elemento)=>elemento.id===id)\n",
    "\n",
    "    if ( indice != -1 )\n",
    "    {\n",
    "        let presentes = empleados[indice].asistencias.filter((elemento)=>elemento)\n",
    "        let porcentaje = presentes.length/(empleados[indice].asistencias.length)\n",
    "        return porcentaje\n",
    "    }\n",
    "    else\n",
    "    {\n",
    "        console.log(\"El empleado no existe.\")\n",
    "        return -1\n",
    "    }\n",
    "}\n",
    "\n",
    "function esEmpleadoFrecuente(id)\n",
    "{\n",
    "    let resultado = (calcularAsistencia(id) > 0.8) ? true : false\n",
    "    return resultado\n",
    "}\n",
    "\n",
    "function encontrarEmpleado(id)\n",
    "{\n",
    "    let empleado = empleados.find((elemento)=>elemento.id === id)\n",
    "    let resultado = (typeof(empleado) != \"undefined\") ? empleado : \"El empleado no existe.\"\n",
    "    return resultado\n",
    "}\n",
    "\n",
    "function nombreAsistenciaEmpleado()\n",
    "{\n",
    "    for ( let empleado of empleados )\n",
    "    {\n",
    "        let nombre = empleado.nombre\n",
    "        let porcentaje = calcularAsistencia(empleado.id)\n",
    "        console.log(\"Nombre: \"+nombre+\"\\t - Porcentaje asistencia: \"+porcentaje)\n",
    "    }\n",
    "}\n",
    "\n",
    "function empleadosConMas90asistencia()\n",
    "{\n",
    "    let empleados_que_cumplen = empleados.filter((elementos)=>calcularAsistencia(elementos.id)>0.9)\n",
    "    return empleados_que_cumplen\n",
    "}\n",
    "\n",
    "/* PRUEBA DE FUNCIONES */\n",
    "registrarAsistencia(300,true)\n",
    "console.log(empleados)\n",
    "\n",
    "let porcentaje = calcularAsistencia(200)\n",
    "console.log(porcentaje)\n",
    "\n",
    "let frecuente = esEmpleadoFrecuente(100)\n",
    "console.log(frecuente)\n",
    "\n",
    "let resultado = encontrarEmpleado(100)\n",
    "console.log(resultado)\n",
    "resultado = encontrarEmpleado(10)\n",
    "console.log(resultado)\n",
    "\n",
    "nombreAsistenciaEmpleado()\n",
    "\n",
    "let array_0 = empleadosConMas90asistencia()\n",
    "console.log(array_0)\n"
   ]
  }
 ],
 "metadata": {
  "kernelspec": {
   "display_name": ".NET (C#)",
   "language": "C#",
   "name": ".net-csharp"
  },
  "polyglot_notebook": {
   "kernelInfo": {
    "defaultKernelName": "javascript",
    "items": [
     {
      "aliases": [],
      "languageName": "javascript",
      "name": "javascript"
     }
    ]
   }
  }
 },
 "nbformat": 4,
 "nbformat_minor": 2
}
