{
 "cells": [
  {
   "cell_type": "code",
   "execution_count": null,
   "metadata": {
    "polyglot_notebook": {
     "kernelName": "javascript"
    }
   },
   "outputs": [
    {
     "data": {
      "text/plain": [
       "8.666666666666666"
      ]
     },
     "metadata": {},
     "output_type": "display_data"
    },
    {
     "data": {
      "text/plain": [
       "Estudiantes activos:"
      ]
     },
     "metadata": {},
     "output_type": "display_data"
    },
    {
     "data": {
      "text/plain": [
       "Spike"
      ]
     },
     "metadata": {},
     "output_type": "display_data"
    },
    {
     "data": {
      "text/plain": [
       "Jet"
      ]
     },
     "metadata": {},
     "output_type": "display_data"
    },
    {
     "data": {
      "text/plain": [
       "Faye"
      ]
     },
     "metadata": {},
     "output_type": "display_data"
    },
    {
     "data": {
      "text/plain": [
       "El estudiante es mayor de edad."
      ]
     },
     "metadata": {},
     "output_type": "display_data"
    },
    {
     "data": {
      "text/plain": [
       "El estudiante es mayor de edad."
      ]
     },
     "metadata": {},
     "output_type": "display_data"
    },
    {
     "data": {
      "text/plain": [
       "El estudiante es mayor de edad."
      ]
     },
     "metadata": {},
     "output_type": "display_data"
    },
    {
     "data": {
      "text/plain": [
       "El estudiante es menor de edad."
      ]
     },
     "metadata": {},
     "output_type": "display_data"
    },
    {
     "data": {
      "application/json": {
       "calificaciones": [
        7,
        8,
        7
       ],
       "edad": 37,
       "esEstudianteActivo": false,
       "nombre": "Jet"
      }
     },
     "metadata": {},
     "output_type": "display_data"
    },
    {
     "data": {
      "text/plain": [
       "Estudiante: Spike - Promedio de notas: 8.666666666666666"
      ]
     },
     "metadata": {},
     "output_type": "display_data"
    },
    {
     "data": {
      "text/plain": [
       "Estudiante: Jet - Promedio de notas: 7.333333333333333"
      ]
     },
     "metadata": {},
     "output_type": "display_data"
    },
    {
     "data": {
      "text/plain": [
       "Estudiante: Faye - Promedio de notas: 8"
      ]
     },
     "metadata": {},
     "output_type": "display_data"
    },
    {
     "data": {
      "text/plain": [
       "Estudiante: Ed - Promedio de notas: 9.666666666666666"
      ]
     },
     "metadata": {},
     "output_type": "display_data"
    },
    {
     "data": {
      "application/json": [
       "Spike",
       "Jet",
       "Faye"
      ]
     },
     "metadata": {},
     "output_type": "display_data"
    },
    {
     "data": {
      "text/plain": [
       "25.5"
      ]
     },
     "metadata": {},
     "output_type": "display_data"
    }
   ],
   "source": [
    "/* VARIALBES Y OBJETOS */\n",
    "let estudiante_0 = {nombre:\"Spike\",edad:30,calificaciones:[9,10,7],esEstudianteActivo:true}\n",
    "let estudiante_1 = {nombre:\"Jet\",edad:37,calificaciones:[7,8,7],esEstudianteActivo:true}\n",
    "let estudiante_2 = {nombre:\"Faye\",edad:23,calificaciones:[5,10,9],esEstudianteActivo:true}\n",
    "let estudiante_3 = {nombre:\"Ed\",edad:12,calificaciones:[9,10,10],esEstudianteActivo:false}\n",
    "\n",
    "let estudiantes = [estudiante_0,estudiante_1,estudiante_2,estudiante_3]\n",
    "\n",
    "/* FUNCIONES */\n",
    "\n",
    "function calcularPromedio(calificaciones)\n",
    "{\n",
    "    let suma = calificaciones.reduce((acumulador,valorPresente)=>acumulador+valorPresente,0)\n",
    "    return suma/calificaciones.length\n",
    "}\n",
    "\n",
    "\n",
    "function mostrarEstudiantesActivos(array_estudiantes)\n",
    "{\n",
    "    const array_filtrado = array_estudiantes.filter((estudiante) => (estudiante.esEstudianteActivo))\n",
    "    \n",
    "    if ( array_filtrado.length > 0 )\n",
    "    {\n",
    "        console.log(\"Estudiantes activos:\")\n",
    "        array_filtrado.forEach((elemento) => console.log(elemento.nombre))\n",
    "        return 0\n",
    "    }\n",
    "    else\n",
    "    {\n",
    "        console.log(\"No hay estudiantes activos.\")\n",
    "        return 1\n",
    "    }\n",
    "}\n",
    "\n",
    "\n",
    "function evaluarEdad(edad)\n",
    "{\n",
    "    let resultado = (edad >= 18) ? \"El estudiante es mayor de edad.\" : \"El estudiante es menor de edad.\"\n",
    "    return resultado\n",
    "}\n",
    "\n",
    "function activarDesactivarEstudiante(nombre)\n",
    "{\n",
    "    indice = estudiantes.findIndex((estudiante) => (estudiante.nombre === nombre))\n",
    "\n",
    "    if ( indice === -1 )\n",
    "    {\n",
    "        console.log(\"No existe estudiante con nombre '\"+nombre+\"'.\")\n",
    "        return 1\n",
    "    }\n",
    "    else\n",
    "    {\n",
    "        estudiantes[indice].esEstudianteActivo = !estudiantes[indice].esEstudianteActivo\n",
    "        return 0\n",
    "    }\n",
    "}\n",
    "\n",
    "function estudianteYPromedioNota()\n",
    "{\n",
    "    for ( let i=0 ; i<estudiantes.length ; ++i )\n",
    "    {\n",
    "        let nombre_estudiante = estudiantes[i].nombre\n",
    "        let promedio_notas = calcularPromedio(estudiantes[i].calificaciones)\n",
    "        console.log(\"Estudiante: \"+nombre_estudiante+\" - Promedio de notas: \"+promedio_notas)\n",
    "    }\n",
    "}\n",
    "\n",
    "function mostrarEstudiantesMayorDeEdad()\n",
    "{\n",
    "    let estudiantes_mayores = estudiantes.filter((estudiante)=>estudiante.edad>=18)\n",
    "    let lista_nombres = estudiantes_mayores.map((estudiante)=>estudiante.nombre)\n",
    "    console.log(lista_nombres)\n",
    "}\n",
    "\n",
    "function promedioEdadEstudiantes()\n",
    "{\n",
    "    let edades = estudiantes.map((estudiante)=>estudiante.edad)\n",
    "    let sumatoria = edades.reduce((acumulador,valorPresente) => acumulador+valorPresente,0)\n",
    "    let promedio = sumatoria/edades.length\n",
    "    console.log(promedio)\n",
    "}\n",
    "\n",
    "/* PRUEBA DE FUNCIONES */\n",
    "\n",
    "console.log(calcularPromedio(estudiantes[0].calificaciones))\n",
    "\n",
    "mostrarEstudiantesActivos(estudiantes)\n",
    "\n",
    "estudiantes.forEach((estudiante) => console.log(evaluarEdad(estudiante.edad)))\n",
    "\n",
    "activarDesactivarEstudiante(\"Jet\")\n",
    "console.log(estudiantes.find((estudiante)=>estudiante.nombre===\"Jet\"))\n",
    "\n",
    "estudianteYPromedioNota()\n",
    "\n",
    "mostrarEstudiantesMayorDeEdad()\n",
    "\n",
    "promedioEdadEstudiantes()"
   ]
  }
 ],
 "metadata": {
  "kernelspec": {
   "display_name": ".NET (C#)",
   "language": "C#",
   "name": ".net-csharp"
  },
  "polyglot_notebook": {
   "kernelInfo": {
    "defaultKernelName": "javascript",
    "items": [
     {
      "aliases": [],
      "languageName": "javascript",
      "name": "javascript"
     }
    ]
   }
  }
 },
 "nbformat": 4,
 "nbformat_minor": 2
}
