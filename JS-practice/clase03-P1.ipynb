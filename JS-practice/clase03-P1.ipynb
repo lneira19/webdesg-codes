{
 "cells": [
  {
   "cell_type": "markdown",
   "metadata": {},
   "source": [
    "# Ejercicio 1: Función Declarada \n",
    "\n",
    "Escribe una función que tome tres números como argumentos y retorne el mayor de ellos. \n",
    "Llama a la función con diferentes valores e imprime el resultado. "
   ]
  },
  {
   "cell_type": "code",
   "execution_count": null,
   "metadata": {
    "polyglot_notebook": {
     "kernelName": "javascript"
    }
   },
   "outputs": [
    {
     "data": {
      "text/plain": [
       "6"
      ]
     },
     "metadata": {},
     "output_type": "display_data"
    }
   ],
   "source": [
    "function giveMeMax(num1,num2,num3)\n",
    "{\n",
    "    max = (num1 > num2) ? num1 : num2;\n",
    "    max = (max > num3) ? max : num3;\n",
    "    return max;\n",
    "}\n",
    "\n",
    "console.log(giveMeMax(1,6,3));"
   ]
  },
  {
   "cell_type": "markdown",
   "metadata": {},
   "source": [
    "# Ejercicio 2: Función Expresada \n",
    "\n",
    "Crea una función expresada que reciba un array de strings y retorne un string que \n",
    "concatena todos los elementos del array separados por espacios"
   ]
  },
  {
   "cell_type": "code",
   "execution_count": null,
   "metadata": {
    "polyglot_notebook": {
     "kernelName": "javascript"
    }
   },
   "outputs": [
    {
     "data": {
      "text/plain": [
       "Hola Mundo !"
      ]
     },
     "metadata": {},
     "output_type": "display_data"
    }
   ],
   "source": [
    "let strConcatenated = function(array_of_strings)\n",
    "{\n",
    "    let str = \"\";\n",
    "    \n",
    "    for(let i = 0; i < array_of_strings.length; i++)\n",
    "    {\n",
    "        str += array_of_strings[i];\n",
    "    }\n",
    "    return str;\n",
    "}\n",
    "\n",
    "console.log(strConcatenated([\"Hola \",\"Mundo \",\"!\"]));"
   ]
  },
  {
   "cell_type": "markdown",
   "metadata": {},
   "source": [
    "# Ejercicio 3: Función Flecha\n",
    "\n",
    "Convierte la función del ejercicio anterior a una función de flecha. Además, agrega una \n",
    "validación para que, si el array está vacío, retorna un mensaje de advertencia. "
   ]
  },
  {
   "cell_type": "code",
   "execution_count": null,
   "metadata": {
    "polyglot_notebook": {
     "kernelName": "javascript"
    }
   },
   "outputs": [
    {
     "data": {
      "text/plain": [
       "Hola  Mundo  !"
      ]
     },
     "metadata": {},
     "output_type": "display_data"
    },
    {
     "data": {
      "text/plain": [
       "0"
      ]
     },
     "metadata": {},
     "output_type": "display_data"
    },
    {
     "data": {
      "text/plain": [
       "Hola  Mundo  !"
      ]
     },
     "metadata": {},
     "output_type": "display_data"
    },
    {
     "data": {
      "text/plain": [
       "Array vacio!"
      ]
     },
     "metadata": {},
     "output_type": "display_data"
    }
   ],
   "source": [
    "let strConcatenated2 = array_of_strings => array_of_strings.join(\" \");\n",
    "console.log(strConcatenated2([\"Hola \",\"Mundo \",\"!\"]))\n",
    "\n",
    "array_of_strings = []\n",
    "console.log(array_of_strings.length)\n",
    "\n",
    "let strConcatenated3 = array_of_strings => result = (array_of_strings.length > 0) ? array_of_strings.join(\" \") : \"Array vacio!\";\n",
    "console.log(strConcatenated3([\"Hola \",\"Mundo \",\"!\"]))\n",
    "console.log(strConcatenated3([]))"
   ]
  },
  {
   "cell_type": "markdown",
   "metadata": {},
   "source": [
    "# Ejercicio 4: Estructura If-Else\n",
    "\n",
    "Escribe una función que tome una temperatura en grados Celsius como argumento y \n",
    "devuelva un mensaje que indique si hace frío (menor a 15 grados), templado (entre 15 y 25 \n",
    "grados) o calor (mayor a 25 grados)."
   ]
  },
  {
   "cell_type": "code",
   "execution_count": null,
   "metadata": {
    "polyglot_notebook": {
     "kernelName": "javascript"
    }
   },
   "outputs": [
    {
     "data": {
      "text/plain": [
       "Hace frío."
      ]
     },
     "metadata": {},
     "output_type": "display_data"
    },
    {
     "data": {
      "text/plain": [
       "Templado."
      ]
     },
     "metadata": {},
     "output_type": "display_data"
    },
    {
     "data": {
      "text/plain": [
       "Hace calor."
      ]
     },
     "metadata": {},
     "output_type": "display_data"
    }
   ],
   "source": [
    "function temperatureIndicator(temperature_value)\n",
    "{\n",
    "    if (temperature_value < 15)\n",
    "    {\n",
    "        return \"Hace frío.\"\n",
    "    }\n",
    "    else if (temperature_value > 25)\n",
    "    {\n",
    "        return \"Hace calor.\"\n",
    "    }\n",
    "    else\n",
    "    {\n",
    "        return \"Templado.\"\n",
    "    }\n",
    "}\n",
    "\n",
    "console.log(temperatureIndicator(13))\n",
    "console.log(temperatureIndicator(20))\n",
    "console.log(temperatureIndicator(30))"
   ]
  },
  {
   "cell_type": "markdown",
   "metadata": {},
   "source": [
    "# Ejercicio 5: Operador Ternario \n",
    "\n",
    "Reescribe una función que tome una hora (formato 24 horas) y devuelva \"Buenos días\" si \n",
    "es antes de las 12, \"Buenas tardes\" si es entre las 12 y 18, o \"Buenas noches\" si es \n",
    "después de las 18, utilizando operadores ternarios."
   ]
  },
  {
   "cell_type": "code",
   "execution_count": null,
   "metadata": {
    "polyglot_notebook": {
     "kernelName": "javascript"
    }
   },
   "outputs": [
    {
     "data": {
      "text/plain": [
       "Buenos días!"
      ]
     },
     "metadata": {},
     "output_type": "display_data"
    },
    {
     "data": {
      "text/plain": [
       "Buenas tardes!"
      ]
     },
     "metadata": {},
     "output_type": "display_data"
    },
    {
     "data": {
      "text/plain": [
       "Buenas noches!"
      ]
     },
     "metadata": {},
     "output_type": "display_data"
    }
   ],
   "source": [
    "function dayGreeting(hour)\n",
    "{\n",
    "    greeting = (hour<12) ? \"Buenos días!\" : ((hour>18) ? \"Buenas noches!\" : \"Buenas tardes!\");\n",
    "    return greeting\n",
    "}\n",
    "\n",
    "console.log(dayGreeting(10))\n",
    "console.log(dayGreeting(14))\n",
    "console.log(dayGreeting(20))"
   ]
  },
  {
   "cell_type": "markdown",
   "metadata": {},
   "source": [
    "# Ejercicio 6: Operadores And y Or \n",
    "\n",
    "Escribe una función que reciba cuatro argumentos booleanos y retorne true si al menos \n",
    "uno de los dos primeros es verdadero y al menos uno de los dos últimos es falso."
   ]
  },
  {
   "cell_type": "code",
   "execution_count": null,
   "metadata": {
    "polyglot_notebook": {
     "kernelName": "javascript"
    }
   },
   "outputs": [
    {
     "data": {
      "text/plain": [
       "false"
      ]
     },
     "metadata": {},
     "output_type": "display_data"
    },
    {
     "data": {
      "text/plain": [
       "true"
      ]
     },
     "metadata": {},
     "output_type": "display_data"
    },
    {
     "data": {
      "text/plain": [
       "true"
      ]
     },
     "metadata": {},
     "output_type": "display_data"
    },
    {
     "data": {
      "text/plain": [
       "false"
      ]
     },
     "metadata": {},
     "output_type": "display_data"
    },
    {
     "data": {
      "text/plain": [
       "true"
      ]
     },
     "metadata": {},
     "output_type": "display_data"
    }
   ],
   "source": [
    "function determineBooleanValue(arg1,arg2,arg3,arg4)\n",
    "{\n",
    "    result = ( (arg1 || arg2) && !(arg3 && arg4) ) ? true : false;\n",
    "    return result;\n",
    "}\n",
    "\n",
    "console.log(determineBooleanValue(true,true,true,true))\n",
    "console.log(determineBooleanValue(true,true,true,false))\n",
    "console.log(determineBooleanValue(true,true,false,false))\n",
    "console.log(determineBooleanValue(false,true,true,true))\n",
    "console.log(determineBooleanValue(false,true,false,true))"
   ]
  },
  {
   "cell_type": "markdown",
   "metadata": {},
   "source": [
    "# Ejercicio 7: Función que Calcula el Factorial \n",
    "\n",
    "Escribe una función que tome un número como argumento y retorne su factorial. Utiliza una \n",
    "estructura if para manejar el caso base. "
   ]
  },
  {
   "cell_type": "code",
   "execution_count": null,
   "metadata": {
    "polyglot_notebook": {
     "kernelName": "javascript"
    }
   },
   "outputs": [
    {
     "data": {
      "text/plain": [
       "720"
      ]
     },
     "metadata": {},
     "output_type": "display_data"
    }
   ],
   "source": [
    "function factorial(int_value)\n",
    "{\n",
    "    if (int_value === 0)\n",
    "    {\n",
    "        return 1\n",
    "    }\n",
    "    else\n",
    "    {\n",
    "        return int_value*factorial(int_value-1)\n",
    "    }\n",
    "}\n",
    "\n",
    "console.log(factorial(6))"
   ]
  },
  {
   "cell_type": "markdown",
   "metadata": {},
   "source": [
    "# Ejercicio 8: Función con Parámetros por Defecto \n",
    "\n",
    "Crea una función que salude a una persona. Si no se proporciona el nombre, debe saludar \n",
    "con \"Hola, invitado\"."
   ]
  },
  {
   "cell_type": "code",
   "execution_count": null,
   "metadata": {
    "polyglot_notebook": {
     "kernelName": "javascript"
    }
   },
   "outputs": [
    {
     "data": {
      "text/plain": [
       "Hola, invitado!"
      ]
     },
     "metadata": {},
     "output_type": "display_data"
    },
    {
     "data": {
      "text/plain": [
       "Hola, Lucas!"
      ]
     },
     "metadata": {},
     "output_type": "display_data"
    }
   ],
   "source": [
    "function giveGreetingToGuest(name=\"invitado\")\n",
    "{\n",
    "    return \"Hola, \"+name+\"!\";\n",
    "}\n",
    "\n",
    "console.log(giveGreetingToGuest())\n",
    "console.log(giveGreetingToGuest(\"Lucas\"))"
   ]
  },
  {
   "cell_type": "markdown",
   "metadata": {},
   "source": [
    "# Ejercicio 9: Función que Verifica Números Pares \n",
    "\n",
    "Escribe una función que tome un número y retorne true si es par o false si es impar. \n",
    "Utiliza el operador módulo (%) y un operador ternario."
   ]
  },
  {
   "cell_type": "code",
   "execution_count": null,
   "metadata": {
    "polyglot_notebook": {
     "kernelName": "javascript"
    }
   },
   "outputs": [
    {
     "data": {
      "text/plain": [
       "true"
      ]
     },
     "metadata": {},
     "output_type": "display_data"
    },
    {
     "data": {
      "text/plain": [
       "false"
      ]
     },
     "metadata": {},
     "output_type": "display_data"
    },
    {
     "data": {
      "text/plain": [
       "true"
      ]
     },
     "metadata": {},
     "output_type": "display_data"
    },
    {
     "data": {
      "text/plain": [
       "false"
      ]
     },
     "metadata": {},
     "output_type": "display_data"
    }
   ],
   "source": [
    "function getParity(int_value)\n",
    "{\n",
    "    result = (int_value % 2 === 0) ? true : false;\n",
    "    return result;\n",
    "}\n",
    "\n",
    "let getParity2 = int_value => (int_value % 2 === 0) ? true : false;\n",
    "\n",
    "console.log(getParity(24))\n",
    "console.log(getParity(13))\n",
    "\n",
    "console.log(getParity2(24))\n",
    "console.log(getParity2(13))"
   ]
  },
  {
   "cell_type": "markdown",
   "metadata": {},
   "source": [
    "# Ejercicio 10: Uso de switch \n",
    "\n",
    "Escribe una función que reciba un día de la semana (en número) y retorne el nombre del \n",
    "día. Usa una estructura switch. "
   ]
  },
  {
   "cell_type": "code",
   "execution_count": null,
   "metadata": {
    "polyglot_notebook": {
     "kernelName": "javascript"
    }
   },
   "outputs": [
    {
     "data": {
      "text/plain": [
       "Lunes"
      ]
     },
     "metadata": {},
     "output_type": "display_data"
    },
    {
     "data": {
      "text/plain": [
       "Ingrese un número de día valido."
      ]
     },
     "metadata": {},
     "output_type": "display_data"
    }
   ],
   "source": [
    "function getDayName(day_number)\n",
    "{\n",
    "    switch (day_number)\n",
    "    {\n",
    "        case 1: return \"Lunes\";\n",
    "        case 2: return \"Martes\";\n",
    "        case 3: return \"Miércoles\";\n",
    "        case 4: return \"Jueves\";\n",
    "        case 5: return \"Viernes\";\n",
    "        case 6: return \"Sábado\";\n",
    "        case 7: return \"Domingo\";\n",
    "        default: return \"Ingrese un número de día valido.\"\n",
    "    }\n",
    "}\n",
    "\n",
    "console.log(getDayName(1))\n",
    "console.log(getDayName(8))"
   ]
  },
  {
   "cell_type": "markdown",
   "metadata": {},
   "source": [
    "# Ejercicio 11: Función Recursiva \n",
    "\n",
    "Crea una función recursiva que calcule la suma de los números de 1 hasta n."
   ]
  },
  {
   "cell_type": "code",
   "execution_count": null,
   "metadata": {
    "polyglot_notebook": {
     "kernelName": "javascript"
    }
   },
   "outputs": [
    {
     "data": {
      "text/plain": [
       "78"
      ]
     },
     "metadata": {},
     "output_type": "display_data"
    }
   ],
   "source": [
    "function nsum(int_value)\n",
    "{\n",
    "    if ( int_value === 0 )\n",
    "    {\n",
    "        return 0;\n",
    "    }\n",
    "    else\n",
    "    {\n",
    "        return int_value+nsum(int_value-1);\n",
    "    }\n",
    "}\n",
    "\n",
    "console.log(nsum(12))"
   ]
  },
  {
   "cell_type": "markdown",
   "metadata": {},
   "source": [
    "# Ejercicio 12: Validación con Operadores Lógicos \n",
    "\n",
    "Escribe una función que verifique si una contraseña cumple con ciertos criterios: al menos 8 \n",
    "caracteres, contiene un número y una letra mayúscula. Utiliza operadores lógicos para \n",
    "combinar las condiciones. "
   ]
  },
  {
   "cell_type": "code",
   "execution_count": null,
   "metadata": {
    "polyglot_notebook": {
     "kernelName": "javascript"
    }
   },
   "outputs": [
    {
     "data": {
      "text/plain": [
       "Contraseña válida."
      ]
     },
     "metadata": {},
     "output_type": "display_data"
    }
   ],
   "source": [
    "function passwordValidity(password=\"Asaaaaaaaaaa2\")\n",
    "{\n",
    "    if ( password.length < 8 )\n",
    "    {\n",
    "        return \"Contraseña con menos de 8 caracteres.\"\n",
    "    }\n",
    "    else if (password.match(/[A-Z]/) === null)\n",
    "    {\n",
    "        return \"Contraseña sin mayúsculas.\"\n",
    "    }\n",
    "    else if (password.match(/[0-9]/) === null)\n",
    "    {\n",
    "        return \"Contraseña sin números.\"\n",
    "    }\n",
    "    else\n",
    "    {\n",
    "        return \"Contraseña válida.\"\n",
    "    }\n",
    "}\n",
    "\n",
    "console.log(passwordValidity())"
   ]
  }
 ],
 "metadata": {
  "kernelspec": {
   "display_name": ".NET (C#)",
   "language": "C#",
   "name": ".net-csharp"
  },
  "polyglot_notebook": {
   "kernelInfo": {
    "defaultKernelName": "javascript",
    "items": [
     {
      "aliases": [],
      "languageName": "javascript",
      "name": "javascript"
     }
    ]
   }
  }
 },
 "nbformat": 4,
 "nbformat_minor": 2
}
