{
 "cells": [
  {
   "cell_type": "code",
   "execution_count": null,
   "metadata": {
    "polyglot_notebook": {
     "kernelName": "javascript"
    }
   },
   "outputs": [
    {
     "data": {
      "text/plain": [
       "Productos almacenados"
      ]
     },
     "metadata": {},
     "output_type": "display_data"
    },
    {
     "data": {
      "application/json": [
       {
        "cantidadEnStock": 2000,
        "nombre": "P1",
        "precio": 100
       },
       {
        "cantidadEnStock": 500,
        "nombre": "P2",
        "precio": 200
       },
       {
        "cantidadEnStock": 100,
        "nombre": "P3",
        "precio": 300
       }
      ]
     },
     "metadata": {},
     "output_type": "display_data"
    },
    {
     "data": {
      "text/plain": [
       "Cantidad suficiente. Agregando al carrito..."
      ]
     },
     "metadata": {},
     "output_type": "display_data"
    },
    {
     "data": {
      "text/plain": [
       "Cantidad suficiente. Agregando al carrito..."
      ]
     },
     "metadata": {},
     "output_type": "display_data"
    },
    {
     "data": {
      "application/json": [
       {
        "cantidadDeseada": 100,
        "nombre": "P1",
        "precio": 100
       },
       {
        "cantidadDeseada": 50,
        "nombre": "P2",
        "precio": 200
       }
      ]
     },
     "metadata": {},
     "output_type": "display_data"
    },
    {
     "data": {
      "text/plain": [
       "20000"
      ]
     },
     "metadata": {},
     "output_type": "display_data"
    },
    {
     "data": {
      "text/plain": [
       "false"
      ]
     },
     "metadata": {},
     "output_type": "display_data"
    },
    {
     "data": {
      "text/plain": [
       "true"
      ]
     },
     "metadata": {},
     "output_type": "display_data"
    },
    {
     "data": {
      "text/plain": [
       "18000"
      ]
     },
     "metadata": {},
     "output_type": "display_data"
    },
    {
     "data": {
      "application/json": [
       "P1",
       "P2"
      ]
     },
     "metadata": {},
     "output_type": "display_data"
    },
    {
     "data": {
      "application/json": [
       {
        "cantidadEnStock": 2000,
        "nombre": "P1",
        "precio": 100
       }
      ]
     },
     "metadata": {},
     "output_type": "display_data"
    },
    {
     "data": {
      "text/plain": [
       "Producto: P1 - Precio: 100 - Cantidad comprada: 100"
      ]
     },
     "metadata": {},
     "output_type": "display_data"
    },
    {
     "data": {
      "text/plain": [
       "Producto: P2 - Precio: 200 - Cantidad comprada: 50"
      ]
     },
     "metadata": {},
     "output_type": "display_data"
    }
   ],
   "source": [
    "/* VARIABLES O OBJETOS */\n",
    "\n",
    "let carrito = []\n",
    "let productos = []\n",
    "\n",
    "function ProductoAlmacenado(nombre,precio,cantidadEnStock)\n",
    "{\n",
    "    this.nombre = nombre,\n",
    "    this.precio = precio,\n",
    "    this.cantidadEnStock = cantidadEnStock\n",
    "}\n",
    "\n",
    "const nombre_productos = [\"P1\",\"P2\",\"P3\"]\n",
    "const precio_productos = [100,200,300]\n",
    "const stock_productos = [2000,500,100]\n",
    "\n",
    "for ( let i = 0 ; i<3 ; ++i )\n",
    "{\n",
    "    let producto = new ProductoAlmacenado(nombre_productos[i],precio_productos[i],stock_productos[i])\n",
    "    productos.push(producto)\n",
    "}\n",
    "\n",
    "console.log(\"Productos almacenados\")\n",
    "console.log(productos)\n",
    "\n",
    "/* FUNCIONES */\n",
    "function agregarAlCarrito(producto,cantidadDeseada)\n",
    "{\n",
    "    let indice = productos.findIndex((elemento) => elemento.nombre === producto.nombre)\n",
    "\n",
    "    if ( indice != -1 )\n",
    "    {\n",
    "        if ( productos[indice].cantidadEnStock >= cantidadDeseada )\n",
    "        {\n",
    "            console.log(\"Cantidad suficiente. Agregando al carrito...\")\n",
    "            carrito.push({nombre:producto.nombre,precio:producto.precio,cantidadDeseada:cantidadDeseada})\n",
    "        }\n",
    "        else\n",
    "        {\n",
    "            console.log(\"Cantidad insuficiente.\")\n",
    "        }\n",
    "    }\n",
    "    else\n",
    "    {\n",
    "        console.log(\"El producto no existe.\")\n",
    "    }\n",
    "}\n",
    "\n",
    "function calcularTotalCarrito()\n",
    "{\n",
    "    let subtotales = carrito.map((elemento)=>elemento.cantidadDeseada*elemento.precio)\n",
    "    let sumatoria = subtotales.reduce((acumulador,valorPresente)=>acumulador+valorPresente,0)\n",
    "    return sumatoria\n",
    "}\n",
    "\n",
    "function verificarStock(producto,cantidad)\n",
    "{\n",
    "    let resultado = ( producto.cantidadEnStock >= cantidad ) ? true : false\n",
    "\n",
    "    return resultado\n",
    "}\n",
    "\n",
    "function aplicarDescuento(total_carrito)\n",
    "{\n",
    "    let nuevo_total_carrito = (total_carrito > 100) ? total_carrito*0.9 : total_carrito\n",
    "    return nuevo_total_carrito\n",
    "}\n",
    "\n",
    "function nombreProductosEnCarrito()\n",
    "{\n",
    "    let nombre_productos_en_carrito = carrito.map((elemento)=>elemento.nombre)\n",
    "    return nombre_productos_en_carrito\n",
    "}\n",
    "\n",
    "function filtroStockProductos()\n",
    "{\n",
    "    let productos_filtrado = productos.filter((elemento)=>elemento.cantidadEnStock>600)\n",
    "    return productos_filtrado\n",
    "}\n",
    "\n",
    "function mostrarInfoCarrito()\n",
    "{\n",
    "    for ( let elemento of carrito )\n",
    "    {\n",
    "        console.log(\"Producto: \"+elemento.nombre+\" - Precio: \"+elemento.precio+\" - Cantidad comprada: \"+elemento.cantidadDeseada)\n",
    "    }\n",
    "}\n",
    "\n",
    "/* PRUEBA DE FUNCIONES */\n",
    "agregarAlCarrito(productos[0],100)\n",
    "agregarAlCarrito(productos[1],50)\n",
    "console.log(carrito)\n",
    "\n",
    "let total_carrito = calcularTotalCarrito()\n",
    "console.log(total_carrito)\n",
    "\n",
    "console.log(verificarStock(productos[0],10000))\n",
    "console.log(verificarStock(productos[0],2))\n",
    "\n",
    "let nuevo_total_carrito = aplicarDescuento(total_carrito)\n",
    "console.log(nuevo_total_carrito)\n",
    "\n",
    "let nombre_productos_en_carrito = nombreProductosEnCarrito()\n",
    "console.log(nombre_productos_en_carrito)\n",
    "\n",
    "let productos_filtrado = filtroStockProductos()\n",
    "console.log(productos_filtrado)\n",
    "\n",
    "mostrarInfoCarrito()"
   ]
  }
 ],
 "metadata": {
  "kernelspec": {
   "display_name": ".NET (C#)",
   "language": "C#",
   "name": ".net-csharp"
  },
  "polyglot_notebook": {
   "kernelInfo": {
    "defaultKernelName": "javascript",
    "items": [
     {
      "aliases": [],
      "languageName": "javascript",
      "name": "javascript"
     }
    ]
   }
  }
 },
 "nbformat": 4,
 "nbformat_minor": 2
}
