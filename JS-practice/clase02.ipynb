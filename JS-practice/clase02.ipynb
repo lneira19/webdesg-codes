{
 "cells": [
  {
   "cell_type": "markdown",
   "metadata": {},
   "source": [
    "# Ejercicio 1: Declaración de Variables \n",
    "\n",
    "Declara tres variables: una para almacenar tu ciudad, otra para almacenar tu país, y otra para almacenar tu edad de nacimiento. \n",
    "\n",
    "Imprime los valores en la consola y después intenta \n",
    "cambiar los valores y observa los resultados con let y const."
   ]
  },
  {
   "cell_type": "code",
   "execution_count": null,
   "metadata": {
    "polyglot_notebook": {
     "kernelName": "javascript"
    }
   },
   "outputs": [
    {
     "data": {
      "text/plain": [
       "Vivo en Tigre, Argentina y tengo 24 años."
      ]
     },
     "metadata": {},
     "output_type": "display_data"
    }
   ],
   "source": [
    "const ciudad = \"Tigre\"\n",
    "const pais = \"Argentina\"\n",
    "let edad = 24\n",
    "\n",
    "console.log(\"Vivo en \" + ciudad + \", \" + pais + \" y tengo \" + edad + \" años.\")\n",
    "\n",
    "ciudad = \"Buenos Aires\" // Error: no se puede reasignar una constante\n",
    "pais = \"Uruguay\" // Error: no se puede reasignar una constante\n",
    "edad = 25\n",
    "\n",
    "console.log(\"Vivo en \" + ciudad + \", \" + pais + \" y tengo \" + edad + \" años.\")"
   ]
  },
  {
   "cell_type": "markdown",
   "metadata": {},
   "source": [
    "# Ejercicio 2: Operaciones Matemáticas \n",
    "\n",
    "Declara tres variables numéricas. Calcula el promedio de las tres y encuentra el residuo de \n",
    "la división de la suma total entre 2. Imprime los resultados. "
   ]
  },
  {
   "cell_type": "code",
   "execution_count": null,
   "metadata": {
    "polyglot_notebook": {
     "kernelName": "javascript"
    }
   },
   "outputs": [
    {
     "data": {
      "text/plain": [
       "Promedio = 31.666666666666668"
      ]
     },
     "metadata": {},
     "output_type": "display_data"
    },
    {
     "data": {
      "text/plain": [
       "Residuo = 2"
      ]
     },
     "metadata": {},
     "output_type": "display_data"
    }
   ],
   "source": [
    "let var0 = 25\n",
    "let var1 = 30\n",
    "let var2 = 40\n",
    "\n",
    "let promedio = (var0 + var1 + var2) / 3\n",
    "let residuo = (var0 + var1 + var2) % 3\n",
    "\n",
    "console.log(\"Promedio = \" + promedio)\n",
    "console.log(\"Residuo = \" + residuo)"
   ]
  },
  {
   "cell_type": "markdown",
   "metadata": {},
   "source": [
    "# Ejercicio 3: Tipos de Datos \n",
    "\n",
    "Declara una variable para almacenar un objeto que represente un coche con propiedades \n",
    "como marca, modelo y año. Imprime el tipo de cada propiedad con typeof. "
   ]
  },
  {
   "cell_type": "code",
   "execution_count": null,
   "metadata": {
    "polyglot_notebook": {
     "kernelName": "javascript"
    }
   },
   "outputs": [
    {
     "data": {
      "text/plain": [
       "string"
      ]
     },
     "metadata": {},
     "output_type": "display_data"
    },
    {
     "data": {
      "text/plain": [
       "string"
      ]
     },
     "metadata": {},
     "output_type": "display_data"
    },
    {
     "data": {
      "text/plain": [
       "number"
      ]
     },
     "metadata": {},
     "output_type": "display_data"
    }
   ],
   "source": [
    "let coche = {\n",
    "    marca: \"Ford\",\n",
    "    modelo: \"Fiesta\",\n",
    "    anio: 2019\n",
    "}\n",
    "\n",
    "console.log(typeof(coche.marca))\n",
    "console.log(typeof(coche.modelo))\n",
    "console.log(typeof(coche.anio))"
   ]
  },
  {
   "cell_type": "markdown",
   "metadata": {},
   "source": [
    "# Ejercicio 4: Arrays Básicos \n",
    "\n",
    "Crea un array con los nombres de 5 ciudades que te gustaría visitar. Reemplaza el tercer \n",
    "elemento por otra ciudad y luego imprime el array actualizado. "
   ]
  },
  {
   "cell_type": "code",
   "execution_count": null,
   "metadata": {
    "polyglot_notebook": {
     "kernelName": "javascript"
    }
   },
   "outputs": [
    {
     "data": {
      "application/json": [
       "Tokio",
       "Seoul",
       "Hong Kong",
       "Taipei",
       "Kuala Lumpur"
      ]
     },
     "metadata": {},
     "output_type": "display_data"
    },
    {
     "data": {
      "application/json": [
       "Tokio",
       "Seoul",
       "Kioto",
       "Taipei",
       "Kuala Lumpur"
      ]
     },
     "metadata": {},
     "output_type": "display_data"
    }
   ],
   "source": [
    "let ciudades = [\"Tokio\", \"Seoul\", \"Hong Kong\", \"Taipei\", \"Kuala Lumpur\"]\n",
    "\n",
    "console.log(ciudades)\n",
    "\n",
    "ciudades[2] = \"Kioto\"\n",
    "\n",
    "console.log(ciudades)"
   ]
  },
  {
   "cell_type": "markdown",
   "metadata": {},
   "source": [
    "# Ejercicio 5: Array de Objetos \n",
    "\n",
    "Crea un array de 3 objetos que representen películas, cada una con título, director y año de \n",
    "lanzamiento. Imprime el director de la última película."
   ]
  },
  {
   "cell_type": "code",
   "execution_count": null,
   "metadata": {
    "polyglot_notebook": {
     "kernelName": "javascript"
    }
   },
   "outputs": [
    {
     "data": {
      "text/plain": [
       "Francis Ford Coppola 2"
      ]
     },
     "metadata": {},
     "output_type": "display_data"
    }
   ],
   "source": [
    "pelicula0 = {\n",
    "    titulo: \"El Padrino\",\n",
    "    director: \"Francis Ford Coppola 1\",\n",
    "    anio: 1972\n",
    "}\n",
    "\n",
    "pelicula1 = {\n",
    "    titulo: \"El Padrino II\",\n",
    "    director: \"Francis Ford Coppola 1\",\n",
    "    anio: 1974\n",
    "}\n",
    "\n",
    "pelicula2 = {\n",
    "    titulo: \"El Padrino III\",\n",
    "    director: \"Francis Ford Coppola 2\",\n",
    "    anio: 1990\n",
    "}\n",
    "\n",
    "peliculas = [pelicula0, pelicula1, pelicula2]\n",
    "\n",
    "console.log(peliculas[2].director)"
   ]
  },
  {
   "cell_type": "markdown",
   "metadata": {},
   "source": [
    "# Ejercicio 6: Operadores Lógicos \n",
    "\n",
    "Declara tres variables booleanas y usa operadores lógicos para verificar si al menos dos \n",
    "son verdaderas. Imprime true o false en la consola dependiendo del resultado."
   ]
  },
  {
   "cell_type": "code",
   "execution_count": null,
   "metadata": {
    "polyglot_notebook": {
     "kernelName": "javascript"
    }
   },
   "outputs": [
    {
     "data": {
      "text/plain": [
       "false"
      ]
     },
     "metadata": {},
     "output_type": "display_data"
    },
    {
     "data": {
      "text/plain": [
       "true"
      ]
     },
     "metadata": {},
     "output_type": "display_data"
    },
    {
     "data": {
      "text/plain": [
       "true"
      ]
     },
     "metadata": {},
     "output_type": "display_data"
    }
   ],
   "source": [
    "let varbool0 = true\n",
    "let varbool1 = false\n",
    "let varbool2 = true\n",
    "\n",
    "console.log(varbool0 && varbool1)\n",
    "console.log(varbool0 || varbool1)\n",
    "\n",
    "/* Se comprueba si existen por lo menos dos variables que sean verdaderas */\n",
    "console.log((varbool0 && varbool1) || (varbool0 && varbool2) || (varbool1 && varbool2))"
   ]
  },
  {
   "cell_type": "markdown",
   "metadata": {},
   "source": [
    "# Ejercicio 7: Comparaciones \n",
    "\n",
    "Declara tres variables numéricas. Compara si el primer número es mayor que el segundo y \n",
    "menor que el tercero. Luego, verifica si el segundo número es distinto al tercero. Imprime \n",
    "los resultados de las comparaciones. "
   ]
  },
  {
   "cell_type": "code",
   "execution_count": null,
   "metadata": {
    "polyglot_notebook": {
     "kernelName": "javascript"
    }
   },
   "outputs": [
    {
     "data": {
      "text/plain": [
       "true"
      ]
     },
     "metadata": {},
     "output_type": "display_data"
    },
    {
     "data": {
      "text/plain": [
       "true"
      ]
     },
     "metadata": {},
     "output_type": "display_data"
    }
   ],
   "source": [
    "let varnum0 = 25\n",
    "let varnum1 = 20\n",
    "let varnum2 = 30\n",
    "\n",
    "console.log((varnum0 > varnum1) && (varnum0 < varnum2))\n",
    "console.log(varnum1 !== varnum2)"
   ]
  },
  {
   "cell_type": "markdown",
   "metadata": {},
   "source": [
    "# Ejercicio 8: Concatenación de Strings\n",
    "\n",
    "Declara dos variables que almacenen strings (por ejemplo, tu nombre y tu apellido). Luego, crea una tercera variable que concatene las dos primeras y muestra el resultado en la consola."
   ]
  },
  {
   "cell_type": "code",
   "execution_count": null,
   "metadata": {
    "polyglot_notebook": {
     "kernelName": "javascript"
    }
   },
   "outputs": [
    {
     "data": {
      "text/plain": [
       "Lucas Neira"
      ]
     },
     "metadata": {},
     "output_type": "display_data"
    }
   ],
   "source": [
    "let nombre = \"Lucas\"\n",
    "let apellido = \"Neira\"\n",
    "let nombre_completo = nombre + \" \" + apellido\n",
    "\n",
    "console.log(nombre_completo)"
   ]
  },
  {
   "cell_type": "markdown",
   "metadata": {},
   "source": [
    "# Ejercicio 9: Incremento y Decremento \n",
    "\n",
    "Declara una variable numérica y utiliza los operadores de incremento (++) y decremento (--) para modificar su valor. Imprime el valor de la variable después de cada operación."
   ]
  },
  {
   "cell_type": "code",
   "execution_count": null,
   "metadata": {
    "polyglot_notebook": {
     "kernelName": "javascript"
    }
   },
   "outputs": [
    {
     "data": {
      "text/plain": [
       "26"
      ]
     },
     "metadata": {},
     "output_type": "display_data"
    },
    {
     "data": {
      "text/plain": [
       "25"
      ]
     },
     "metadata": {},
     "output_type": "display_data"
    }
   ],
   "source": [
    "let varnum3 = 25\n",
    "\n",
    "console.log(++varnum3)\n",
    "console.log(--varnum3)"
   ]
  },
  {
   "cell_type": "markdown",
   "metadata": {},
   "source": [
    "# Ejercicio 10: Propiedades de Objetos \n",
    "\n",
    "Crea un objeto que represente un estudiante con propiedades como nombre, edad y \n",
    "carrera. Accede e imprime cada propiedad del objeto. "
   ]
  },
  {
   "cell_type": "code",
   "execution_count": null,
   "metadata": {
    "polyglot_notebook": {
     "kernelName": "javascript"
    }
   },
   "outputs": [
    {
     "data": {
      "application/json": {
       "apellido": "Neira",
       "carrera": "Bioingeniería",
       "edad": 24,
       "nombre": "Lucas"
      }
     },
     "metadata": {},
     "output_type": "display_data"
    },
    {
     "data": {
      "text/plain": [
       "Lucas"
      ]
     },
     "metadata": {},
     "output_type": "display_data"
    },
    {
     "data": {
      "text/plain": [
       "Neira"
      ]
     },
     "metadata": {},
     "output_type": "display_data"
    },
    {
     "data": {
      "text/plain": [
       "24"
      ]
     },
     "metadata": {},
     "output_type": "display_data"
    },
    {
     "data": {
      "text/plain": [
       "Bioingeniería"
      ]
     },
     "metadata": {},
     "output_type": "display_data"
    }
   ],
   "source": [
    "estudiante = {\n",
    "    nombre: \"Lucas\",\n",
    "    apellido: \"Neira\",\n",
    "    edad: 24,\n",
    "    carrera: \"Bioingeniería\"\n",
    "}\n",
    "\n",
    "console.log(estudiante)\n",
    "console.log(estudiante.nombre)\n",
    "console.log(estudiante.apellido)\n",
    "console.log(estudiante.edad)\n",
    "console.log(estudiante.carrera)"
   ]
  },
  {
   "cell_type": "markdown",
   "metadata": {},
   "source": [
    "# Ejercicio 11: Arrays Multidimensionales \n",
    "\n",
    "Crea un array que contenga dos arrays internos, cada uno con 3 números. Accede al \n",
    "segundo elemento del primer array interno. "
   ]
  },
  {
   "cell_type": "code",
   "execution_count": null,
   "metadata": {
    "polyglot_notebook": {
     "kernelName": "javascript"
    }
   },
   "outputs": [
    {
     "data": {
      "text/plain": [
       "2"
      ]
     },
     "metadata": {},
     "output_type": "display_data"
    }
   ],
   "source": [
    "let array = [[1, 2, 3], [4, 5, 6]]\n",
    "\n",
    "console.log(array[0][1])"
   ]
  },
  {
   "cell_type": "markdown",
   "metadata": {},
   "source": [
    "# Ejercicio 12: Operadores Relacionales \n",
    "\n",
    "Declara dos variables numéricas y utiliza los operadores >, <, >=, <=, ===, !== para \n",
    "comparar sus valores. Imprime el resultado de cada comparación. "
   ]
  },
  {
   "cell_type": "code",
   "execution_count": null,
   "metadata": {
    "polyglot_notebook": {
     "kernelName": "javascript"
    }
   },
   "outputs": [
    {
     "data": {
      "text/plain": [
       "false"
      ]
     },
     "metadata": {},
     "output_type": "display_data"
    },
    {
     "data": {
      "text/plain": [
       "true"
      ]
     },
     "metadata": {},
     "output_type": "display_data"
    },
    {
     "data": {
      "text/plain": [
       "false"
      ]
     },
     "metadata": {},
     "output_type": "display_data"
    },
    {
     "data": {
      "text/plain": [
       "true"
      ]
     },
     "metadata": {},
     "output_type": "display_data"
    },
    {
     "data": {
      "text/plain": [
       "false"
      ]
     },
     "metadata": {},
     "output_type": "display_data"
    },
    {
     "data": {
      "text/plain": [
       "true"
      ]
     },
     "metadata": {},
     "output_type": "display_data"
    }
   ],
   "source": [
    "let varnum4 = 25\n",
    "let varnum5 = 30\n",
    "\n",
    "console.log(varnum4 > varnum5)\n",
    "console.log(varnum4 < varnum5)\n",
    "console.log(varnum4 >= varnum5)\n",
    "console.log(varnum4 <= varnum5)\n",
    "console.log(varnum4 === varnum5)\n",
    "console.log(varnum4 !== varnum5)"
   ]
  },
  {
   "cell_type": "markdown",
   "metadata": {},
   "source": [
    "# Ejercicio 13: Uso de typeof con Variables No Definidas \n",
    "\n",
    "Declara una variable sin asignarle un valor y otra variable con valor null. Utiliza typeof \n",
    "para imprimir el tipo de cada variable."
   ]
  },
  {
   "cell_type": "code",
   "execution_count": null,
   "metadata": {
    "polyglot_notebook": {
     "kernelName": "javascript"
    }
   },
   "outputs": [
    {
     "data": {
      "text/plain": [
       "undefined"
      ]
     },
     "metadata": {},
     "output_type": "display_data"
    },
    {
     "data": {
      "text/plain": [
       "object"
      ]
     },
     "metadata": {},
     "output_type": "display_data"
    }
   ],
   "source": [
    "let varwithnotvalue\n",
    "let varnull = null\n",
    "\n",
    "console.log(typeof(varwithnotvalue))\n",
    "console.log(typeof(varnull))"
   ]
  },
  {
   "cell_type": "markdown",
   "metadata": {},
   "source": [
    "# Ejercicio 14: Conversión de Tipos \n",
    "\n",
    "Declara una variable que almacene un número como string (por ejemplo, \"123\"). Convierte este string a un número usando parseInt o Number y demuestra que ahora puedes realizar operaciones matemáticas con él. "
   ]
  },
  {
   "cell_type": "code",
   "execution_count": null,
   "metadata": {
    "polyglot_notebook": {
     "kernelName": "javascript"
    }
   },
   "outputs": [
    {
     "data": {
      "text/plain": [
       "2025.3"
      ]
     },
     "metadata": {},
     "output_type": "display_data"
    },
    {
     "data": {
      "text/plain": [
       "2025"
      ]
     },
     "metadata": {},
     "output_type": "display_data"
    },
    {
     "data": {
      "text/plain": [
       "4050.3"
      ]
     },
     "metadata": {},
     "output_type": "display_data"
    }
   ],
   "source": [
    "let numstring = \"2025.3\"\n",
    "let numfloat = parseFloat(numstring)\n",
    "let numint = parseInt(numstring)\n",
    "\n",
    "let newvalue = numfloat + numint\n",
    "\n",
    "console.log(numfloat)\n",
    "console.log(numint)\n",
    "console.log(newvalue)"
   ]
  }
 ],
 "metadata": {
  "kernelspec": {
   "display_name": ".NET (C#)",
   "language": "C#",
   "name": ".net-csharp"
  },
  "polyglot_notebook": {
   "kernelInfo": {
    "defaultKernelName": "javascript",
    "items": [
     {
      "aliases": [],
      "languageName": "javascript",
      "name": "javascript"
     }
    ]
   }
  }
 },
 "nbformat": 4,
 "nbformat_minor": 2
}
