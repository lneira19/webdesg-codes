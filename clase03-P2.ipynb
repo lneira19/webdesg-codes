{
 "cells": [
  {
   "cell_type": "markdown",
   "metadata": {},
   "source": [
    "# Ejercicio 1: Ciclo For \n",
    "\n",
    "Escribe un ciclo for que imprima los números pares entre 1 y 20."
   ]
  },
  {
   "cell_type": "code",
   "execution_count": null,
   "metadata": {
    "polyglot_notebook": {
     "kernelName": "javascript"
    }
   },
   "outputs": [
    {
     "data": {
      "application/json": [
       2,
       4,
       6,
       8,
       10,
       12,
       14,
       16,
       18,
       20
      ]
     },
     "metadata": {},
     "output_type": "display_data"
    }
   ],
   "source": [
    "array_of_numbers = []\n",
    "for ( let i=1; i<21; ++i )\n",
    "{\n",
    "    if ( i%2 === 0 )\n",
    "    {\n",
    "        array_of_numbers.push(i)\n",
    "    }\n",
    "}\n",
    "console.log(array_of_numbers)"
   ]
  },
  {
   "cell_type": "markdown",
   "metadata": {},
   "source": [
    "# Ejercicio 2: Iterar un Array \n",
    "\n",
    "Crea un array con los nombres de tus cinco películas favoritas y usa un ciclo for para \n",
    "imprimirlas con su respectivo número de posición (ej. \"1. El Padrino\"). "
   ]
  },
  {
   "cell_type": "code",
   "execution_count": null,
   "metadata": {
    "polyglot_notebook": {
     "kernelName": "javascript"
    }
   },
   "outputs": [
    {
     "data": {
      "application/json": [
       "1. A",
       "2. B",
       "3. C",
       "4. D",
       "5. E"
      ]
     },
     "metadata": {},
     "output_type": "display_data"
    }
   ],
   "source": [
    "array_of_movies = [\"A\",\"B\",\"C\",\"D\",\"E\"]\n",
    "new_array_of_movies = []\n",
    "\n",
    "for ( let i=0; i<array_of_movies.length; ++i)\n",
    "{\n",
    "    new_array_of_movies.push((i+1)+\". \"+array_of_movies[i])\n",
    "}\n",
    "\n",
    "console.log(new_array_of_movies)"
   ]
  },
  {
   "cell_type": "markdown",
   "metadata": {},
   "source": [
    "# Ejercicio 3: Métodos de Arrays \n",
    "\n",
    "Usa el método forEach para recorrer un array de números y para cada número imprime si \n",
    "es par o impar. \n",
    "Utiliza el método find para buscar el primer número mayor que 20 en un array de números. \n",
    "Usa el método some para verificar si en un array de edades hay al menos una persona \n",
    "mayor de 18 años."
   ]
  },
  {
   "cell_type": "code",
   "execution_count": null,
   "metadata": {
    "polyglot_notebook": {
     "kernelName": "javascript"
    }
   },
   "outputs": [
    {
     "data": {
      "application/json": [
       "Par",
       "Impar",
       "Par",
       "Impar",
       "Impar",
       "Impar",
       "Impar",
       "Par",
       "Impar",
       "Impar"
      ]
     },
     "metadata": {},
     "output_type": "display_data"
    },
    {
     "data": {
      "application/json": [
       56
      ]
     },
     "metadata": {},
     "output_type": "display_data"
    },
    {
     "data": {
      "application/json": [
       true
      ]
     },
     "metadata": {},
     "output_type": "display_data"
    }
   ],
   "source": [
    "const array_with_numbers = [56,123,4,67,7,189,27,38,23,123]\n",
    "\n",
    "array_results_1 = []\n",
    "array_results_2 = []\n",
    "array_results_3 = []\n",
    "\n",
    "array_with_numbers.forEach((element) => (element%2 === 0) ? array_results_1.push(\"Par\") : array_results_1.push(\"Impar\"))\n",
    "console.log(array_results_1)\n",
    "\n",
    "array_results_2.push( array_with_numbers.find((element) => element>20) )\n",
    "console.log(array_results_2)\n",
    "\n",
    "array_results_3.push( array_with_numbers.some((element) => element>100) )\n",
    "console.log(array_results_3)\n"
   ]
  },
  {
   "cell_type": "markdown",
   "metadata": {},
   "source": [
    "# Ejercicio 4: Iterar un Array con for...of \n",
    "\n",
    "Crea un array con los nombres de 5 países y usa un ciclo for...of para imprimir cada \n",
    "uno."
   ]
  },
  {
   "cell_type": "code",
   "execution_count": null,
   "metadata": {
    "polyglot_notebook": {
     "kernelName": "javascript"
    }
   },
   "outputs": [
    {
     "data": {
      "application/json": [
       "A!",
       "B!",
       "C!",
       "D!",
       "E!"
      ]
     },
     "metadata": {},
     "output_type": "display_data"
    }
   ],
   "source": [
    "array_of_countries = [\"A\",\"B\",\"C\",\"D\",\"E\"]\n",
    "new_array_of_countries = []\n",
    "\n",
    "for ( let country of array_of_countries)\n",
    "{\n",
    "    new_array_of_countries.push(country+\"!\")\n",
    "}\n",
    "\n",
    "console.log(new_array_of_countries)"
   ]
  },
  {
   "cell_type": "markdown",
   "metadata": {},
   "source": [
    "# Ejercicio 5: Uso de forEach \n",
    "\n",
    "Utiliza el método forEach para imprimir cada elemento de un array de números."
   ]
  },
  {
   "cell_type": "code",
   "execution_count": null,
   "metadata": {
    "polyglot_notebook": {
     "kernelName": "javascript"
    }
   },
   "outputs": [
    {
     "data": {
      "text/plain": [
       "56"
      ]
     },
     "metadata": {},
     "output_type": "display_data"
    },
    {
     "data": {
      "text/plain": [
       "123"
      ]
     },
     "metadata": {},
     "output_type": "display_data"
    },
    {
     "data": {
      "text/plain": [
       "4"
      ]
     },
     "metadata": {},
     "output_type": "display_data"
    }
   ],
   "source": [
    "const array_with_numbers_2 = [56,123,4]\n",
    "\n",
    "array_with_numbers_2.forEach((element) => console.log(element))"
   ]
  },
  {
   "cell_type": "markdown",
   "metadata": {},
   "source": [
    "# Ejercicio 6: Métodos de Arrays Avanzados \n",
    "\n",
    "Utiliza el método every para comprobar si todos los elementos en un array son strings."
   ]
  },
  {
   "cell_type": "code",
   "execution_count": null,
   "metadata": {
    "polyglot_notebook": {
     "kernelName": "javascript"
    }
   },
   "outputs": [
    {
     "data": {
      "text/plain": [
       "true"
      ]
     },
     "metadata": {},
     "output_type": "display_data"
    },
    {
     "data": {
      "text/plain": [
       "false"
      ]
     },
     "metadata": {},
     "output_type": "display_data"
    },
    {
     "data": {
      "text/plain": [
       "false"
      ]
     },
     "metadata": {},
     "output_type": "display_data"
    }
   ],
   "source": [
    "let array_test_1 = [\"ASD1\",\"ASD2\",\"ASD3\"]\n",
    "let array_test_2 = [1,2,3]\n",
    "let array_test_3 = [1,2,\"ASD\"]\n",
    "\n",
    "strChech = (element) => typeof(element) === \"string\"\n",
    "\n",
    "console.log( array_test_1.every( strChech ))\n",
    "console.log( array_test_2.every( strChech ))\n",
    "console.log( array_test_3.every( strChech ))"
   ]
  },
  {
   "cell_type": "markdown",
   "metadata": {},
   "source": [
    "# Ejercicio 7: Transformación de Arrays \n",
    "\n",
    "Crea un array de objetos que representen personas con propiedades como nombre y edad. \n",
    "Usa map para crear un nuevo array que contenga solo los nombres. "
   ]
  },
  {
   "cell_type": "code",
   "execution_count": null,
   "metadata": {
    "polyglot_notebook": {
     "kernelName": "javascript"
    }
   },
   "outputs": [
    {
     "data": {
      "application/json": [
       "Juan",
       "Pedro",
       "Luis"
      ]
     },
     "metadata": {},
     "output_type": "display_data"
    }
   ],
   "source": [
    "let persona_1 = {nombre:\"Juan\", edad:\"13\"}\n",
    "let persona_2 = {nombre:\"Pedro\", edad:\"26\"}\n",
    "let persona_3 = {nombre:\"Luis\", edad:\"39\"}\n",
    "\n",
    "let array_personas = [persona_1,persona_2,persona_3]\n",
    "\n",
    "let array_map = array_personas.map( (element) => element.nombre )\n",
    "\n",
    "console.log(array_map)"
   ]
  }
 ],
 "metadata": {
  "kernelspec": {
   "display_name": ".NET (C#)",
   "language": "C#",
   "name": ".net-csharp"
  },
  "polyglot_notebook": {
   "kernelInfo": {
    "defaultKernelName": "javascript",
    "items": [
     {
      "aliases": [],
      "languageName": "javascript",
      "name": "javascript"
     }
    ]
   }
  }
 },
 "nbformat": 4,
 "nbformat_minor": 2
}
